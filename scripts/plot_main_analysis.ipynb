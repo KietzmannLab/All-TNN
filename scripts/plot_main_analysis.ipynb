{
 "cells": [
  {
   "cell_type": "markdown",
   "metadata": {},
   "source": [
    "# Code to generate main manuscript figures"
   ]
  },
  {
   "cell_type": "markdown",
   "metadata": {},
   "source": [
    "#### Note: Running this notebook requires downloading the output dict of all analyses, which can be found in the OSF repository. Alternatively, generate it  via `analysis.py` (see README)."
   ]
  },
  {
   "cell_type": "code",
   "execution_count": null,
   "metadata": {},
   "outputs": [],
   "source": [
    "import os\n",
    "import numpy as np\n",
    "import matplotlib.pyplot as plt\n",
    "import pandas as pd\n",
    "from all_tnn.analysis.util import * \n",
    "# Import custom modules\n",
    "from all_tnn.analysis.config import *\n",
    "from all_tnn.analysis.util.convert_dict2h5 import read_h52dict\n",
    "from all_tnn.analysis.visualization.acc_maps_visualization import plot_bar_plot_from_df\n",
    "from all_tnn.analysis.visualization.acc_spatial_loss import generate_analysis_df\n",
    "from all_tnn.analysis.visualization.energy_efficiency import plot_energy_consumption_across_epochs_lineplot, plot_stacked_energy_map_energy_vs_eccentricity, plot_stacked_energy_maps_normalized\n",
    "from all_tnn.analysis.visualization.layer_visualization import visualize_layer\n",
    "from all_tnn.analysis.visualization.smoothness_entropy_visualization import calculate_radial_entropy, plot_radial_entropy, plot_cluster_size, cluster_size_vs_eccentricity\n",
    "from all_tnn.analysis.glm_analysis import run_full_GLM_analysis\n",
    "\n",
    "# Set plotting style\n",
    "import scienceplots  \n",
    "plt.style.use(['science', 'nature', \"ieee\", 'no-latex'])\n",
    "from all_tnn.analysis.visualization.colors import DECREASING_6COLORS, COLOR_THEME_WITH_ALPHA_SWEEP\n",
    "color_palette = COLOR_THEME_WITH_ALPHA_SWEEP[1:] "
   ]
  },
  {
   "cell_type": "code",
   "execution_count": null,
   "metadata": {},
   "outputs": [],
   "source": [
    "# Setting Paths to where the data is stored\n",
    "source_dir = '/share/klab/datasets/TNN_paper_save_dir/All-TNN_share/'\n",
    "neural_level_src_dir = os.path.join(source_dir, 'neural_level_src')\n",
    "behaviour_src_dir = os.path.join(source_dir, 'behaviour_src')\n",
    "neural_level_h5_file_dir =  os.path.join(neural_level_src_dir, 'h5/')\n",
    "# List of additional directories to create\n",
    "directories = [\n",
    "    os.path.join(source_dir, 'plots', 'figure1'),   \n",
    "    os.path.join(source_dir, 'plots', 'figure2'),        \n",
    "    os.path.join(source_dir, 'plots', 'figure3'),        \n",
    "    os.path.join(source_dir, 'plots', 'figure4'), \n",
    "    os.path.join(source_dir, 'plots', 'figure5'), \n",
    "]\n",
    "\n",
    "# Iterate over the list and create each directory\n",
    "for directory in directories:\n",
    "    os.makedirs(directory, exist_ok=True)\n",
    "    # Convert to absolute path for better readability\n",
    "    absolute_path = os.path.abspath(directory)\n",
    "    print(f\"Created directory: {absolute_path}\")\n",
    "\n",
    "plot_path_fig1, plot_path_fig2, plot_path_fig3, plot_path_fig4, plot_path_fig5 = directories"
   ]
  },
  {
   "cell_type": "markdown",
   "metadata": {},
   "source": [
    "## Figure 1 \n",
    "### Categorization performance \n",
    "Classification accuracy of all All-TNNs and control models on the ecoset test set. \n",
    "Running these cells will plot the figures and save them to `save_dir`"
   ]
  },
  {
   "cell_type": "code",
   "execution_count": null,
   "metadata": {},
   "outputs": [],
   "source": [
    "df = generate_analysis_df(\n",
    "    base_src_dir_path=neural_level_src_dir,\n",
    "    MODEL_NAMES=MODEL_NAMES,\n",
    "    seeds_range=SEEDS_RANGE,\n",
    "    models_epochs_dict=MODELS_EPOCHS_DICT,\n",
    "    MODEL_NAMES_TO_PLOT=MODEL_NAMES_TO_PLOT,\n",
    "    model_results_dict_filename='all_multi_models_neural_dict.h5', # or default is multi_models_neural_dict.pickle\n",
    ")\n",
    "plot_bar_plot_from_df(df, plot_path_fig1+'accuracy_compare_across_alphas.pdf', \n",
    "                               x=\"Model\", y=\"Accuracy\", \n",
    "                               title = \"Categorisation performance\", \n",
    "                               color3_start_id = 1,\n",
    "                               show_plot = True,\n",
    "                               figsize=(3.54, 2))"
   ]
  },
  {
   "cell_type": "markdown",
   "metadata": {},
   "source": [
    "### Spatial smoothness\n",
    "Spatial smoothness is calculated as as 1/average cosine similarity between the weights of neighbouring units for all models."
   ]
  },
  {
   "cell_type": "code",
   "execution_count": null,
   "metadata": {},
   "outputs": [],
   "source": [
    "plot_bar_plot_from_df(df, plot_path_fig1+'mean_cosdist_compare_across_alphas.pdf',\n",
    "                                    x=\"Model\", y=\"Spatial Smoothness\", \n",
    "                                    title = \"Spatial smoothness\", \n",
    "                                    color3_start_id = 1,\n",
    "                                    show_plot = True,\n",
    "                                    log_scale = True, #! log scale\n",
    "                                    figsize=(3.54, 2))"
   ]
  },
  {
   "cell_type": "markdown",
   "metadata": {},
   "source": [
    "## Figure 2\n",
    "### Orientation selectivity maps, entropy of first layer orientation selectivity, and category selectivity maps."
   ]
  },
  {
   "cell_type": "code",
   "execution_count": null,
   "metadata": {},
   "outputs": [],
   "source": [
    "MAIN_MODEL_NAMES = [\n",
    "    \"CNN\",\n",
    "    \"LCN\",\n",
    "    \"TNN_alpha_1\",\n",
    "    \"TNN_alpha_10\",\n",
    "    \"TNN_alpha_100\",\n",
    "    # \"shifted_TNN_alpha_10\"\n",
    "    # \"TNN_simclr_finetune\",\n",
    "    ]\n",
    "\n",
    "seed = 1 # or pick another seed\n",
    "model_name = \"TNN_alpha_10\" # or pick another model\n",
    "seed_results = neural_level_h5_file_dir + f\"/seed{seed}/all_multi_models_neural_dict.h5\"\n",
    "model_results_dict = read_h52dict(seed_results)\n",
    "CATEGORY_STATS = 0\n",
    "vis = visualize_layer(model_results_dict[\"TNN_alpha_10\"], 300, layer_i=0, analysis_dir=plot_path_fig2, model_name=model_name, layer=None, save=True, show=True)"
   ]
  },
  {
   "cell_type": "markdown",
   "metadata": {},
   "source": [
    "### Radial entropy profile"
   ]
  },
  {
   "cell_type": "code",
   "execution_count": null,
   "metadata": {},
   "outputs": [],
   "source": [
    "all_data = []\n",
    "for seed in SEEDS_RANGE: \n",
    "    h5_file_path = neural_level_h5_file_dir + f\"/seed{seed}/all_multi_models_neural_dict.h5\"\n",
    "    model_results_dict = read_h52dict(h5_file_path)\n",
    "    all_data.append(model_results_dict)\n",
    "    \n",
    "ent_dict = calculate_radial_entropy(all_data, MAIN_MODEL_NAMES)\n",
    "plot_radial_entropy(ent_dict, color_palette, MAIN_MODEL_NAMES, plot_path_fig2, save=True, show=True)"
   ]
  },
  {
   "cell_type": "markdown",
   "metadata": {},
   "source": [
    "### Smoothness of orientation selectivity and category selectivity maps\n",
    "\n"
   ]
  },
  {
   "cell_type": "code",
   "execution_count": null,
   "metadata": {},
   "outputs": [],
   "source": [
    "plot_cluster_size(all_data, color_palette, MAIN_MODEL_NAMES, plot_path_fig2, stats=False, save=True, show=True)\n",
    "cluster_size_vs_eccentricity(all_data, color_palette, MAIN_MODEL_NAMES, plot_path_fig2, save=True, show=True)"
   ]
  },
  {
   "cell_type": "markdown",
   "metadata": {},
   "source": [
    "## Figure 3\n",
    "### Energy consumption\n",
    "- For Figures 3A & 3B & 3C, simply run the following code. "
   ]
  },
  {
   "cell_type": "code",
   "execution_count": null,
   "metadata": {},
   "outputs": [],
   "source": [
    "epochs_to_plot = [35] + list(range(50,601,50))\n",
    "plot_energy_consumption_across_epochs_lineplot(\n",
    "        model_name_path_dict=MODEL_NAME_PATH_DICT,\n",
    "        alphas=ALPHAS,\n",
    "        seed_range=SEEDS_RANGE,\n",
    "        fixed_epochs=epochs_to_plot,\n",
    "        save_fig_path=plot_path_fig3,\n",
    "        pre_or_postrelu='postrelu',\n",
    "        NORM_PREV_LAYER=True,\n",
    "        NORM_LAYER_OUT=True,\n",
    "    )"
   ]
  },
  {
   "cell_type": "code",
   "execution_count": null,
   "metadata": {},
   "outputs": [],
   "source": [
    "plot_stacked_energy_map_energy_vs_eccentricity(\n",
    "        model_name_path_dict=MODEL_NAME_PATH_DICT,\n",
    "        alphas=ALPHAS,\n",
    "        save_fig_path=plot_path_fig3,\n",
    "        pre_or_postrelu='postrelu',\n",
    "        prefix_list=[ 'ali_'],\n",
    "        energy_consumption_types= ['total'],\n",
    "        seed_range=SEEDS_RANGE,\n",
    "        models_epochs_dict=MODELS_EPOCHS_DICT,\n",
    "        NORM_PREV_LAYER=True,\n",
    "        NORM_LAYER_OUT=False,\n",
    "    )"
   ]
  },
  {
   "cell_type": "code",
   "execution_count": null,
   "metadata": {},
   "outputs": [],
   "source": [
    "plot_stacked_energy_maps_normalized(\n",
    "        model_name_path_dict=MODEL_NAME_PATH_DICT,\n",
    "        alphas=ALPHAS,\n",
    "        save_fig_path=plot_path_fig3,\n",
    "        pre_or_postrelu='postrelu',\n",
    "        prefix_list=[ 'ali_'],\n",
    "        energy_consumption_types= ['total'],\n",
    "        seed_range= [1], \n",
    "        models_epochs_dict=MODELS_EPOCHS_DICT,\n",
    "        NORM_PREV_LAYER=True,\n",
    "        NORM_LAYER_OUT=False,\n",
    "    )"
   ]
  },
  {
   "cell_type": "markdown",
   "metadata": {},
   "source": [
    "## Figure 4\n",
    "### Human object-specific biases are predicted by animacy and real-world size. \n",
    " Non-negative least squares GLM analysis on the averaged human ADM shows significant unique variance explained by animacy and real-world size. "
   ]
  },
  {
   "cell_type": "code",
   "execution_count": null,
   "metadata": {},
   "outputs": [],
   "source": [
    "glm_results = run_full_GLM_analysis(\n",
    "    base_path=behaviour_src_dir,\n",
    "    data_filename='adm_dict_pearsonr_spearmanr.h5',\n",
    "    plot_path = plot_path_fig4,\n",
    "    model_type='average_human_adm',\n",
    "    predictor_names=['animate', 'size', 'spiky'],  # or a custom list of predictors (see make_predictors() function)\n",
    "    num_permutations=1000,\n",
    "    verbose=True,)"
   ]
  },
  {
   "cell_type": "markdown",
   "metadata": {},
   "source": [
    "### Spatial biases in human and model behaviour"
   ]
  },
  {
   "cell_type": "code",
   "execution_count": null,
   "metadata": {},
   "outputs": [],
   "source": [
    "df_behavior_agreements = pd.read_csv(behaviour_src_dir + 'df_behavior_agreements.csv')\n",
    "plot_bar_plot_from_df(df_behavior_agreements,\n",
    "                        plot_path_fig4+'behaviour_agreements.pdf',\n",
    "                        x=\"Model\", y='pearsonr', title=\"Behaviour Agreement Analysis\",\n",
    "                        show_plot=False, color3_start_id=1, hline=None,\n",
    "                        figsize=(3.54, 2),)"
   ]
  },
  {
   "cell_type": "markdown",
   "metadata": {},
   "source": [
    "### Agreement with object-specific biases in human behaviour"
   ]
  },
  {
   "cell_type": "code",
   "execution_count": null,
   "metadata": {},
   "outputs": [],
   "source": [
    "df_adm_agreement = pd.read_csv(behaviour_src_dir + 'df_adm_agreement.csv')\n",
    "plot_bar_plot_from_df(df_adm_agreement,\n",
    "                        plot_path_fig4+'adm_agreements.pdf',\n",
    "                        x=\"Model\", y='spearmanr', title=\"ADM Agreement Analysis\",\n",
    "                        show_plot=False, color3_start_id=1, hline=None,\n",
    "                        figsize=(3.54, 2),)"
   ]
  },
  {
   "cell_type": "markdown",
   "metadata": {},
   "source": [
    "## Figure 5\n",
    "\n",
    "- Figure 5 is produced by re-running the code for Figures 1–4 for the self-supervised (SimCLR) All-TNN ($\\alpha = 10$) and the supervised All-TNN ($\\alpha = 10$).\n",
    "\n",
    "Change ``analysis/config.py`` (l. 27) by commenting out all other models:\n",
    "\n",
    "```python\n",
    " MODEL_NAMES=[\"TNN_alpha_10\", \"TNN_simclr_finetune\",] \n",
    " ```\n",
    "\n",
    "For figure 2, edit MAIN_MODEL_NAMES."
   ]
  }
 ],
 "metadata": {
  "kernelspec": {
   "display_name": "base",
   "language": "python",
   "name": "python3"
  },
  "language_info": {
   "codemirror_mode": {
    "name": "ipython",
    "version": 3
   },
   "file_extension": ".py",
   "mimetype": "text/x-python",
   "name": "python",
   "nbconvert_exporter": "python",
   "pygments_lexer": "ipython3",
   "version": "3.9.16"
  }
 },
 "nbformat": 4,
 "nbformat_minor": 4
}
